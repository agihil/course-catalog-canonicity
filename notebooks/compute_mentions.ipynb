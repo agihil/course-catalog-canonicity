{
 "cells": [
  {
   "cell_type": "code",
   "execution_count": 1,
   "id": "6b886719",
   "metadata": {},
   "outputs": [],
   "source": [
    "import pandas as pd\n",
    "import plotly.express as px\n",
    "from tqdm import tqdm\n",
    "import numpy as np\n",
    "import re\n",
    "from scipy.spatial.distance import jensenshannon\n",
    "from plotly.subplots import make_subplots\n",
    "import plotly.graph_objects as go\n",
    "from scipy.stats import kendalltau\n",
    "import ast"
   ]
  },
  {
   "cell_type": "markdown",
   "id": "d00d2825",
   "metadata": {},
   "source": [
    "# Read in the data"
   ]
  },
  {
   "cell_type": "code",
   "execution_count": 3,
   "id": "2b7a45c1",
   "metadata": {},
   "outputs": [],
   "source": [
    "lvs = pd.read_csv(\"../data/lvs.csv\", sep=\";\", encoding=\"utf-8\", index_col=0)\n",
    "\n",
    "# Transform column values back into lists\n",
    "lvs[\"NER_GNDs_Inhalt\"] = lvs[\"NER_GNDs_Inhalt\"].apply(lambda x: ast.literal_eval(x) if type(x) == str else x)\n",
    "lvs[\"NER_GNDs_Titel\"] = lvs[\"NER_GNDs_Inhalt\"].apply(lambda x: ast.literal_eval(x) if type(x) == str else x)\n",
    "\n",
    "# Clean columns (Quotation marks inside NEs cause problems when converting string to list)\n",
    "for x in [\"Titel\", \"Inhalt\"]:\n",
    "    # alle Anführungszeichen entfernen\n",
    "    lvs[f\"NER_Pers_{x}_lemm\"] = [re.sub(\"'\", \"\", x) if type(x) == str else x for x in lvs[f\"NER_Pers_{x}_lemm\"]]\n",
    "    lvs[f\"NER_Pers_{x}_lemm\"] = [re.sub(\"\\\"\", \"\", x) if type(x) == str else x for x in lvs[f\"NER_Pers_{x}_lemm\"]]\n",
    "    # vor jedem komma ein '\n",
    "    lvs[f\"NER_Pers_{x}_lemm\"] = [re.sub(\",\", \"',\", x) if type(x) == str else x for x in lvs[f\"NER_Pers_{x}_lemm\"]]\n",
    "    # nach jedem komma ein '\n",
    "    lvs[f\"NER_Pers_{x}_lemm\"] = [re.sub(\",\", \", '\", x) if type(x) == str else x for x in lvs[f\"NER_Pers_{x}_lemm\"]]\n",
    "    # vor jeder klammer ein '\n",
    "    lvs[f\"NER_Pers_{x}_lemm\"] = [re.sub(\"\\]\", \"']\", x) if type(x) == str else x for x in lvs[f\"NER_Pers_{x}_lemm\"]]\n",
    "    # nach jeder Klammer ein '\n",
    "    lvs[f\"NER_Pers_{x}_lemm\"] = [re.sub(\"\\[\", \"['\", x) if type(x) == str else x for x in lvs[f\"NER_Pers_{x}_lemm\"]]\n",
    "    # alle doppelanführungszeichen entfernen\n",
    "    lvs[f\"NER_Pers_{x}_lemm\"] = [re.sub(\"'+\", \"'\", x) if type(x) == str else x for x in lvs[f\"NER_Pers_{x}_lemm\"]]\n",
    "\n",
    "\n",
    "lvs[\"NER_Pers_Inhalt_lemm\"] = lvs[\"NER_Pers_Inhalt_lemm\"].apply(lambda x: ast.literal_eval(x) if type(x) == str else x)\n",
    "lvs[\"NER_Pers_Titel_lemm\"] = lvs[\"NER_Pers_Titel_lemm\"].apply(lambda x: ast.literal_eval(x) if type(x) == str else x)\n",
    "\n",
    "# Constrain to time period from winter semester 18/19 until winter semester 23/24\n",
    "lvs = lvs[lvs[\"Intervall_Start\"]>\"2018-08\"]\n",
    "\n",
    "people = pd.read_csv(\"../data/people.csv\", sep=\";\", encoding=\"utf-8\", index_col=0)\n",
    "\n"
   ]
  },
  {
   "cell_type": "code",
   "execution_count": 5,
   "id": "e2b0564c",
   "metadata": {},
   "outputs": [],
   "source": [
    "# Select only writers\n",
    "\n",
    "people = people[~people[\"Beruf oder Beschäftigung\"].isna()]\n",
    "authors1 = people[people[\"Beruf oder Beschäftigung\"].str.contains(r\"Schriftsteller\", na=True)]\n",
    "authors2 = people[people[\"Beruf oder Beschäftigung\"].str.contains(r\"Lyriker\", na=True)]\n",
    "authors3 = people[people[\"Beruf oder Beschäftigung\"].str.contains(r\"Dramatiker\", na=True)]\n",
    "authors4 = people[people[\"Beruf oder Beschäftigung\"].str.contains(r\"Erzähler\", na=True)]\n",
    "\n",
    "authors = pd.concat([authors1, authors2, authors3, authors4])\n",
    "authors = authors.drop_duplicates(subset=[\"GND-Nummer\"])"
   ]
  },
  {
   "cell_type": "markdown",
   "id": "a753b073",
   "metadata": {},
   "source": [
    "# Compute number of mentions of people/authors per uni"
   ]
  },
  {
   "cell_type": "code",
   "execution_count": 7,
   "id": "37fea64a",
   "metadata": {},
   "outputs": [
    {
     "data": {
      "text/html": [
       "<div>\n",
       "<style scoped>\n",
       "    .dataframe tbody tr th:only-of-type {\n",
       "        vertical-align: middle;\n",
       "    }\n",
       "\n",
       "    .dataframe tbody tr th {\n",
       "        vertical-align: top;\n",
       "    }\n",
       "\n",
       "    .dataframe thead th {\n",
       "        text-align: right;\n",
       "    }\n",
       "</style>\n",
       "<table border=\"1\" class=\"dataframe\">\n",
       "  <thead>\n",
       "    <tr style=\"text-align: right;\">\n",
       "      <th></th>\n",
       "      <th>University</th>\n",
       "      <th>Number of identified NEs (total)</th>\n",
       "      <th>Unique identified NEs</th>\n",
       "      <th>Number of identified GNDs (total)</th>\n",
       "      <th>Unique identified GNDs</th>\n",
       "      <th>Unique identified GNDs (authors)</th>\n",
       "      <th>Number of author GNDs</th>\n",
       "    </tr>\n",
       "  </thead>\n",
       "  <tbody>\n",
       "    <tr>\n",
       "      <th>0</th>\n",
       "      <td>basel</td>\n",
       "      <td>1537</td>\n",
       "      <td>891</td>\n",
       "      <td>1283</td>\n",
       "      <td>504</td>\n",
       "      <td>313</td>\n",
       "      <td>854</td>\n",
       "    </tr>\n",
       "    <tr>\n",
       "      <th>1</th>\n",
       "      <td>chemnitz</td>\n",
       "      <td>419</td>\n",
       "      <td>200</td>\n",
       "      <td>325</td>\n",
       "      <td>122</td>\n",
       "      <td>87</td>\n",
       "      <td>197</td>\n",
       "    </tr>\n",
       "    <tr>\n",
       "      <th>2</th>\n",
       "      <td>erfurt</td>\n",
       "      <td>457</td>\n",
       "      <td>213</td>\n",
       "      <td>383</td>\n",
       "      <td>138</td>\n",
       "      <td>86</td>\n",
       "      <td>195</td>\n",
       "    </tr>\n",
       "    <tr>\n",
       "      <th>3</th>\n",
       "      <td>graz</td>\n",
       "      <td>762</td>\n",
       "      <td>381</td>\n",
       "      <td>684</td>\n",
       "      <td>250</td>\n",
       "      <td>203</td>\n",
       "      <td>374</td>\n",
       "    </tr>\n",
       "    <tr>\n",
       "      <th>4</th>\n",
       "      <td>halle</td>\n",
       "      <td>3807</td>\n",
       "      <td>1826</td>\n",
       "      <td>3285</td>\n",
       "      <td>1070</td>\n",
       "      <td>528</td>\n",
       "      <td>1918</td>\n",
       "    </tr>\n",
       "    <tr>\n",
       "      <th>5</th>\n",
       "      <td>mainz</td>\n",
       "      <td>687</td>\n",
       "      <td>286</td>\n",
       "      <td>628</td>\n",
       "      <td>182</td>\n",
       "      <td>133</td>\n",
       "      <td>383</td>\n",
       "    </tr>\n",
       "    <tr>\n",
       "      <th>6</th>\n",
       "      <td>marburg</td>\n",
       "      <td>2684</td>\n",
       "      <td>1611</td>\n",
       "      <td>2087</td>\n",
       "      <td>901</td>\n",
       "      <td>401</td>\n",
       "      <td>1081</td>\n",
       "    </tr>\n",
       "    <tr>\n",
       "      <th>7</th>\n",
       "      <td>stuttgart</td>\n",
       "      <td>1881</td>\n",
       "      <td>1010</td>\n",
       "      <td>1694</td>\n",
       "      <td>615</td>\n",
       "      <td>374</td>\n",
       "      <td>1039</td>\n",
       "    </tr>\n",
       "    <tr>\n",
       "      <th>8</th>\n",
       "      <td>wien</td>\n",
       "      <td>1149</td>\n",
       "      <td>671</td>\n",
       "      <td>1010</td>\n",
       "      <td>443</td>\n",
       "      <td>309</td>\n",
       "      <td>707</td>\n",
       "    </tr>\n",
       "  </tbody>\n",
       "</table>\n",
       "</div>"
      ],
      "text/plain": [
       "  University  Number of identified NEs (total)  Unique identified NEs  \\\n",
       "0      basel                              1537                    891   \n",
       "1   chemnitz                               419                    200   \n",
       "2     erfurt                               457                    213   \n",
       "3       graz                               762                    381   \n",
       "4      halle                              3807                   1826   \n",
       "5      mainz                               687                    286   \n",
       "6    marburg                              2684                   1611   \n",
       "7  stuttgart                              1881                   1010   \n",
       "8       wien                              1149                    671   \n",
       "\n",
       "   Number of identified GNDs (total)  Unique identified GNDs  \\\n",
       "0                               1283                     504   \n",
       "1                                325                     122   \n",
       "2                                383                     138   \n",
       "3                                684                     250   \n",
       "4                               3285                    1070   \n",
       "5                                628                     182   \n",
       "6                               2087                     901   \n",
       "7                               1694                     615   \n",
       "8                               1010                     443   \n",
       "\n",
       "   Unique identified GNDs (authors)  Number of author GNDs  \n",
       "0                               313                    854  \n",
       "1                                87                    197  \n",
       "2                                86                    195  \n",
       "3                               203                    374  \n",
       "4                               528                   1918  \n",
       "5                               133                    383  \n",
       "6                               401                   1081  \n",
       "7                               374                   1039  \n",
       "8                               309                    707  "
      ]
     },
     "execution_count": 7,
     "metadata": {},
     "output_type": "execute_result"
    }
   ],
   "source": [
    "import pandas as pd\n",
    "\n",
    "# Sample data setup (replace with your actual data)\n",
    "# lvs = pd.DataFrame(...)\n",
    "# authors = pd.DataFrame(...)\n",
    "\n",
    "# List of universities\n",
    "unis = [\"wien\", \"graz\", \"basel\", \"chemnitz\", \"erfurt\", \"halle\", \"mainz\", \"marburg\", \"stuttgart\"]\n",
    "\n",
    "# Filter GNDs based on authors[\"GND-Nummer\"]\n",
    "valid_gnds = set(authors['GND-Nummer'])\n",
    "\n",
    "# Explode the columns and compute counts per university\n",
    "result = (\n",
    "    lvs.explode(\"NER_Pers_Inhalt_lemm\")\n",
    "    .groupby('Universität')['NER_Pers_Inhalt_lemm']\n",
    "    .agg(['size', lambda x: x.nunique()])\n",
    "    .reset_index()\n",
    ")\n",
    "result.columns = ['University', 'Number of identified NEs (total)', 'Unique identified NEs']\n",
    "\n",
    "# Explode the NER_GNDs_Inhalt column and compute counts per university\n",
    "result_gnds = (\n",
    "    lvs.explode(\"NER_GNDs_Inhalt\")\n",
    "    .groupby('Universität')['NER_GNDs_Inhalt']\n",
    "    .agg(['size', lambda x: x.nunique(), lambda x: len(set(x) & valid_gnds)])\n",
    "    .reset_index()\n",
    ")\n",
    "result_gnds.columns = ['University', 'Number of identified GNDs (total)', 'Unique identified GNDs', 'Unique identified (authors)']\n",
    "\n",
    "# Compute the number of author GNDs per university\n",
    "lvs_exploded = lvs.explode(\"NER_GNDs_Inhalt\")\n",
    "author_gnds_count = (\n",
    "    lvs_exploded[lvs_exploded[\"NER_GNDs_Inhalt\"].isin(valid_gnds)]\n",
    "    .groupby('Universität').size()\n",
    "    .reindex(unis, fill_value=0)\n",
    "    .reset_index()\n",
    ")\n",
    "author_gnds_count.columns = ['University', 'Number of author GNDs']\n",
    "\n",
    "# Merge all results\n",
    "result = result.merge(result_gnds, on='University')\n",
    "result = result.merge(author_gnds_count, on='University')\n",
    "\n",
    "# Rename the columns for clarity\n",
    "result = result.rename(columns={\n",
    "    'Unique identified NEs': 'Unique identified NEs',\n",
    "    'Unique identified GNDs': 'Unique identified GNDs',\n",
    "    'Unique identified (authors)': 'Unique identified GNDs (authors)'\n",
    "})\n",
    "\n",
    "result"
   ]
  },
  {
   "cell_type": "code",
   "execution_count": 12,
   "id": "9fca21be",
   "metadata": {},
   "outputs": [
    {
     "data": {
      "application/vnd.plotly.v1+json": {
       "config": {
        "plotlyServerURL": "https://plotly.com"
       },
       "data": [
        {
         "alignmentgroup": "True",
         "hovertemplate": "variable=Unique identified NEs<br>University=%{x}<br>value=%{y}<extra></extra>",
         "legendgroup": "Unique identified NEs",
         "marker": {
          "color": "orange",
          "pattern": {
           "shape": ""
          }
         },
         "name": "Unique identified NEs",
         "offsetgroup": "Unique identified NEs",
         "orientation": "v",
         "showlegend": true,
         "textposition": "auto",
         "type": "bar",
         "x": [
          "basel",
          "chemnitz",
          "erfurt",
          "graz",
          "halle",
          "mainz",
          "marburg",
          "stuttgart",
          "wien"
         ],
         "xaxis": "x",
         "y": [
          891,
          200,
          213,
          381,
          1826,
          286,
          1611,
          1010,
          671
         ],
         "yaxis": "y"
        },
        {
         "alignmentgroup": "True",
         "hovertemplate": "variable=Unique identified GNDs<br>University=%{x}<br>value=%{y}<extra></extra>",
         "legendgroup": "Unique identified GNDs",
         "marker": {
          "color": "mediumorchid",
          "pattern": {
           "shape": ""
          }
         },
         "name": "Unique identified GNDs",
         "offsetgroup": "Unique identified GNDs",
         "orientation": "v",
         "showlegend": true,
         "textposition": "auto",
         "type": "bar",
         "x": [
          "basel",
          "chemnitz",
          "erfurt",
          "graz",
          "halle",
          "mainz",
          "marburg",
          "stuttgart",
          "wien"
         ],
         "xaxis": "x",
         "y": [
          504,
          122,
          138,
          250,
          1070,
          182,
          901,
          615,
          443
         ],
         "yaxis": "y"
        },
        {
         "alignmentgroup": "True",
         "hovertemplate": "variable=Unique identified GNDs (authors)<br>University=%{x}<br>value=%{y}<extra></extra>",
         "legendgroup": "Unique identified GNDs (authors)",
         "marker": {
          "color": "royalblue",
          "pattern": {
           "shape": ""
          }
         },
         "name": "Unique identified GNDs (authors)",
         "offsetgroup": "Unique identified GNDs (authors)",
         "orientation": "v",
         "showlegend": true,
         "textposition": "auto",
         "type": "bar",
         "x": [
          "basel",
          "chemnitz",
          "erfurt",
          "graz",
          "halle",
          "mainz",
          "marburg",
          "stuttgart",
          "wien"
         ],
         "xaxis": "x",
         "y": [
          313,
          87,
          86,
          203,
          528,
          133,
          401,
          374,
          309
         ],
         "yaxis": "y"
        }
       ],
       "layout": {
        "barmode": "group",
        "legend": {
         "title": {
          "text": "variable"
         },
         "tracegroupgap": 0
        },
        "margin": {
         "t": 60
        },
        "template": {
         "data": {
          "bar": [
           {
            "error_x": {
             "color": "#2a3f5f"
            },
            "error_y": {
             "color": "#2a3f5f"
            },
            "marker": {
             "line": {
              "color": "#E5ECF6",
              "width": 0.5
             },
             "pattern": {
              "fillmode": "overlay",
              "size": 10,
              "solidity": 0.2
             }
            },
            "type": "bar"
           }
          ],
          "barpolar": [
           {
            "marker": {
             "line": {
              "color": "#E5ECF6",
              "width": 0.5
             },
             "pattern": {
              "fillmode": "overlay",
              "size": 10,
              "solidity": 0.2
             }
            },
            "type": "barpolar"
           }
          ],
          "carpet": [
           {
            "aaxis": {
             "endlinecolor": "#2a3f5f",
             "gridcolor": "white",
             "linecolor": "white",
             "minorgridcolor": "white",
             "startlinecolor": "#2a3f5f"
            },
            "baxis": {
             "endlinecolor": "#2a3f5f",
             "gridcolor": "white",
             "linecolor": "white",
             "minorgridcolor": "white",
             "startlinecolor": "#2a3f5f"
            },
            "type": "carpet"
           }
          ],
          "choropleth": [
           {
            "colorbar": {
             "outlinewidth": 0,
             "ticks": ""
            },
            "type": "choropleth"
           }
          ],
          "contour": [
           {
            "colorbar": {
             "outlinewidth": 0,
             "ticks": ""
            },
            "colorscale": [
             [
              0,
              "#0d0887"
             ],
             [
              0.1111111111111111,
              "#46039f"
             ],
             [
              0.2222222222222222,
              "#7201a8"
             ],
             [
              0.3333333333333333,
              "#9c179e"
             ],
             [
              0.4444444444444444,
              "#bd3786"
             ],
             [
              0.5555555555555556,
              "#d8576b"
             ],
             [
              0.6666666666666666,
              "#ed7953"
             ],
             [
              0.7777777777777778,
              "#fb9f3a"
             ],
             [
              0.8888888888888888,
              "#fdca26"
             ],
             [
              1,
              "#f0f921"
             ]
            ],
            "type": "contour"
           }
          ],
          "contourcarpet": [
           {
            "colorbar": {
             "outlinewidth": 0,
             "ticks": ""
            },
            "type": "contourcarpet"
           }
          ],
          "heatmap": [
           {
            "colorbar": {
             "outlinewidth": 0,
             "ticks": ""
            },
            "colorscale": [
             [
              0,
              "#0d0887"
             ],
             [
              0.1111111111111111,
              "#46039f"
             ],
             [
              0.2222222222222222,
              "#7201a8"
             ],
             [
              0.3333333333333333,
              "#9c179e"
             ],
             [
              0.4444444444444444,
              "#bd3786"
             ],
             [
              0.5555555555555556,
              "#d8576b"
             ],
             [
              0.6666666666666666,
              "#ed7953"
             ],
             [
              0.7777777777777778,
              "#fb9f3a"
             ],
             [
              0.8888888888888888,
              "#fdca26"
             ],
             [
              1,
              "#f0f921"
             ]
            ],
            "type": "heatmap"
           }
          ],
          "heatmapgl": [
           {
            "colorbar": {
             "outlinewidth": 0,
             "ticks": ""
            },
            "colorscale": [
             [
              0,
              "#0d0887"
             ],
             [
              0.1111111111111111,
              "#46039f"
             ],
             [
              0.2222222222222222,
              "#7201a8"
             ],
             [
              0.3333333333333333,
              "#9c179e"
             ],
             [
              0.4444444444444444,
              "#bd3786"
             ],
             [
              0.5555555555555556,
              "#d8576b"
             ],
             [
              0.6666666666666666,
              "#ed7953"
             ],
             [
              0.7777777777777778,
              "#fb9f3a"
             ],
             [
              0.8888888888888888,
              "#fdca26"
             ],
             [
              1,
              "#f0f921"
             ]
            ],
            "type": "heatmapgl"
           }
          ],
          "histogram": [
           {
            "marker": {
             "pattern": {
              "fillmode": "overlay",
              "size": 10,
              "solidity": 0.2
             }
            },
            "type": "histogram"
           }
          ],
          "histogram2d": [
           {
            "colorbar": {
             "outlinewidth": 0,
             "ticks": ""
            },
            "colorscale": [
             [
              0,
              "#0d0887"
             ],
             [
              0.1111111111111111,
              "#46039f"
             ],
             [
              0.2222222222222222,
              "#7201a8"
             ],
             [
              0.3333333333333333,
              "#9c179e"
             ],
             [
              0.4444444444444444,
              "#bd3786"
             ],
             [
              0.5555555555555556,
              "#d8576b"
             ],
             [
              0.6666666666666666,
              "#ed7953"
             ],
             [
              0.7777777777777778,
              "#fb9f3a"
             ],
             [
              0.8888888888888888,
              "#fdca26"
             ],
             [
              1,
              "#f0f921"
             ]
            ],
            "type": "histogram2d"
           }
          ],
          "histogram2dcontour": [
           {
            "colorbar": {
             "outlinewidth": 0,
             "ticks": ""
            },
            "colorscale": [
             [
              0,
              "#0d0887"
             ],
             [
              0.1111111111111111,
              "#46039f"
             ],
             [
              0.2222222222222222,
              "#7201a8"
             ],
             [
              0.3333333333333333,
              "#9c179e"
             ],
             [
              0.4444444444444444,
              "#bd3786"
             ],
             [
              0.5555555555555556,
              "#d8576b"
             ],
             [
              0.6666666666666666,
              "#ed7953"
             ],
             [
              0.7777777777777778,
              "#fb9f3a"
             ],
             [
              0.8888888888888888,
              "#fdca26"
             ],
             [
              1,
              "#f0f921"
             ]
            ],
            "type": "histogram2dcontour"
           }
          ],
          "mesh3d": [
           {
            "colorbar": {
             "outlinewidth": 0,
             "ticks": ""
            },
            "type": "mesh3d"
           }
          ],
          "parcoords": [
           {
            "line": {
             "colorbar": {
              "outlinewidth": 0,
              "ticks": ""
             }
            },
            "type": "parcoords"
           }
          ],
          "pie": [
           {
            "automargin": true,
            "type": "pie"
           }
          ],
          "scatter": [
           {
            "fillpattern": {
             "fillmode": "overlay",
             "size": 10,
             "solidity": 0.2
            },
            "type": "scatter"
           }
          ],
          "scatter3d": [
           {
            "line": {
             "colorbar": {
              "outlinewidth": 0,
              "ticks": ""
             }
            },
            "marker": {
             "colorbar": {
              "outlinewidth": 0,
              "ticks": ""
             }
            },
            "type": "scatter3d"
           }
          ],
          "scattercarpet": [
           {
            "marker": {
             "colorbar": {
              "outlinewidth": 0,
              "ticks": ""
             }
            },
            "type": "scattercarpet"
           }
          ],
          "scattergeo": [
           {
            "marker": {
             "colorbar": {
              "outlinewidth": 0,
              "ticks": ""
             }
            },
            "type": "scattergeo"
           }
          ],
          "scattergl": [
           {
            "marker": {
             "colorbar": {
              "outlinewidth": 0,
              "ticks": ""
             }
            },
            "type": "scattergl"
           }
          ],
          "scattermapbox": [
           {
            "marker": {
             "colorbar": {
              "outlinewidth": 0,
              "ticks": ""
             }
            },
            "type": "scattermapbox"
           }
          ],
          "scatterpolar": [
           {
            "marker": {
             "colorbar": {
              "outlinewidth": 0,
              "ticks": ""
             }
            },
            "type": "scatterpolar"
           }
          ],
          "scatterpolargl": [
           {
            "marker": {
             "colorbar": {
              "outlinewidth": 0,
              "ticks": ""
             }
            },
            "type": "scatterpolargl"
           }
          ],
          "scatterternary": [
           {
            "marker": {
             "colorbar": {
              "outlinewidth": 0,
              "ticks": ""
             }
            },
            "type": "scatterternary"
           }
          ],
          "surface": [
           {
            "colorbar": {
             "outlinewidth": 0,
             "ticks": ""
            },
            "colorscale": [
             [
              0,
              "#0d0887"
             ],
             [
              0.1111111111111111,
              "#46039f"
             ],
             [
              0.2222222222222222,
              "#7201a8"
             ],
             [
              0.3333333333333333,
              "#9c179e"
             ],
             [
              0.4444444444444444,
              "#bd3786"
             ],
             [
              0.5555555555555556,
              "#d8576b"
             ],
             [
              0.6666666666666666,
              "#ed7953"
             ],
             [
              0.7777777777777778,
              "#fb9f3a"
             ],
             [
              0.8888888888888888,
              "#fdca26"
             ],
             [
              1,
              "#f0f921"
             ]
            ],
            "type": "surface"
           }
          ],
          "table": [
           {
            "cells": {
             "fill": {
              "color": "#EBF0F8"
             },
             "line": {
              "color": "white"
             }
            },
            "header": {
             "fill": {
              "color": "#C8D4E3"
             },
             "line": {
              "color": "white"
             }
            },
            "type": "table"
           }
          ]
         },
         "layout": {
          "annotationdefaults": {
           "arrowcolor": "#2a3f5f",
           "arrowhead": 0,
           "arrowwidth": 1
          },
          "autotypenumbers": "strict",
          "coloraxis": {
           "colorbar": {
            "outlinewidth": 0,
            "ticks": ""
           }
          },
          "colorscale": {
           "diverging": [
            [
             0,
             "#8e0152"
            ],
            [
             0.1,
             "#c51b7d"
            ],
            [
             0.2,
             "#de77ae"
            ],
            [
             0.3,
             "#f1b6da"
            ],
            [
             0.4,
             "#fde0ef"
            ],
            [
             0.5,
             "#f7f7f7"
            ],
            [
             0.6,
             "#e6f5d0"
            ],
            [
             0.7,
             "#b8e186"
            ],
            [
             0.8,
             "#7fbc41"
            ],
            [
             0.9,
             "#4d9221"
            ],
            [
             1,
             "#276419"
            ]
           ],
           "sequential": [
            [
             0,
             "#0d0887"
            ],
            [
             0.1111111111111111,
             "#46039f"
            ],
            [
             0.2222222222222222,
             "#7201a8"
            ],
            [
             0.3333333333333333,
             "#9c179e"
            ],
            [
             0.4444444444444444,
             "#bd3786"
            ],
            [
             0.5555555555555556,
             "#d8576b"
            ],
            [
             0.6666666666666666,
             "#ed7953"
            ],
            [
             0.7777777777777778,
             "#fb9f3a"
            ],
            [
             0.8888888888888888,
             "#fdca26"
            ],
            [
             1,
             "#f0f921"
            ]
           ],
           "sequentialminus": [
            [
             0,
             "#0d0887"
            ],
            [
             0.1111111111111111,
             "#46039f"
            ],
            [
             0.2222222222222222,
             "#7201a8"
            ],
            [
             0.3333333333333333,
             "#9c179e"
            ],
            [
             0.4444444444444444,
             "#bd3786"
            ],
            [
             0.5555555555555556,
             "#d8576b"
            ],
            [
             0.6666666666666666,
             "#ed7953"
            ],
            [
             0.7777777777777778,
             "#fb9f3a"
            ],
            [
             0.8888888888888888,
             "#fdca26"
            ],
            [
             1,
             "#f0f921"
            ]
           ]
          },
          "colorway": [
           "#636efa",
           "#EF553B",
           "#00cc96",
           "#ab63fa",
           "#FFA15A",
           "#19d3f3",
           "#FF6692",
           "#B6E880",
           "#FF97FF",
           "#FECB52"
          ],
          "font": {
           "color": "#2a3f5f"
          },
          "geo": {
           "bgcolor": "white",
           "lakecolor": "white",
           "landcolor": "#E5ECF6",
           "showlakes": true,
           "showland": true,
           "subunitcolor": "white"
          },
          "hoverlabel": {
           "align": "left"
          },
          "hovermode": "closest",
          "mapbox": {
           "style": "light"
          },
          "paper_bgcolor": "white",
          "plot_bgcolor": "#E5ECF6",
          "polar": {
           "angularaxis": {
            "gridcolor": "white",
            "linecolor": "white",
            "ticks": ""
           },
           "bgcolor": "#E5ECF6",
           "radialaxis": {
            "gridcolor": "white",
            "linecolor": "white",
            "ticks": ""
           }
          },
          "scene": {
           "xaxis": {
            "backgroundcolor": "#E5ECF6",
            "gridcolor": "white",
            "gridwidth": 2,
            "linecolor": "white",
            "showbackground": true,
            "ticks": "",
            "zerolinecolor": "white"
           },
           "yaxis": {
            "backgroundcolor": "#E5ECF6",
            "gridcolor": "white",
            "gridwidth": 2,
            "linecolor": "white",
            "showbackground": true,
            "ticks": "",
            "zerolinecolor": "white"
           },
           "zaxis": {
            "backgroundcolor": "#E5ECF6",
            "gridcolor": "white",
            "gridwidth": 2,
            "linecolor": "white",
            "showbackground": true,
            "ticks": "",
            "zerolinecolor": "white"
           }
          },
          "shapedefaults": {
           "line": {
            "color": "#2a3f5f"
           }
          },
          "ternary": {
           "aaxis": {
            "gridcolor": "white",
            "linecolor": "white",
            "ticks": ""
           },
           "baxis": {
            "gridcolor": "white",
            "linecolor": "white",
            "ticks": ""
           },
           "bgcolor": "#E5ECF6",
           "caxis": {
            "gridcolor": "white",
            "linecolor": "white",
            "ticks": ""
           }
          },
          "title": {
           "x": 0.05
          },
          "xaxis": {
           "automargin": true,
           "gridcolor": "white",
           "linecolor": "white",
           "ticks": "",
           "title": {
            "standoff": 15
           },
           "zerolinecolor": "white",
           "zerolinewidth": 2
          },
          "yaxis": {
           "automargin": true,
           "gridcolor": "white",
           "linecolor": "white",
           "ticks": "",
           "title": {
            "standoff": 15
           },
           "zerolinecolor": "white",
           "zerolinewidth": 2
          }
         }
        },
        "xaxis": {
         "anchor": "y",
         "domain": [
          0,
          1
         ],
         "title": {
          "text": "University"
         }
        },
        "yaxis": {
         "anchor": "x",
         "domain": [
          0,
          1
         ],
         "title": {
          "text": "value"
         }
        }
       }
      },
      "text/html": [
       "<div>                            <div id=\"9d9882dd-ed29-4cf0-bb5c-47684350b341\" class=\"plotly-graph-div\" style=\"height:525px; width:100%;\"></div>            <script type=\"text/javascript\">                require([\"plotly\"], function(Plotly) {                    window.PLOTLYENV=window.PLOTLYENV || {};                                    if (document.getElementById(\"9d9882dd-ed29-4cf0-bb5c-47684350b341\")) {                    Plotly.newPlot(                        \"9d9882dd-ed29-4cf0-bb5c-47684350b341\",                        [{\"alignmentgroup\":\"True\",\"hovertemplate\":\"variable=Unique identified NEs<br>University=%{x}<br>value=%{y}<extra></extra>\",\"legendgroup\":\"Unique identified NEs\",\"marker\":{\"color\":\"orange\",\"pattern\":{\"shape\":\"\"}},\"name\":\"Unique identified NEs\",\"offsetgroup\":\"Unique identified NEs\",\"orientation\":\"v\",\"showlegend\":true,\"textposition\":\"auto\",\"x\":[\"basel\",\"chemnitz\",\"erfurt\",\"graz\",\"halle\",\"mainz\",\"marburg\",\"stuttgart\",\"wien\"],\"xaxis\":\"x\",\"y\":[891,200,213,381,1826,286,1611,1010,671],\"yaxis\":\"y\",\"type\":\"bar\"},{\"alignmentgroup\":\"True\",\"hovertemplate\":\"variable=Unique identified GNDs<br>University=%{x}<br>value=%{y}<extra></extra>\",\"legendgroup\":\"Unique identified GNDs\",\"marker\":{\"color\":\"mediumorchid\",\"pattern\":{\"shape\":\"\"}},\"name\":\"Unique identified GNDs\",\"offsetgroup\":\"Unique identified GNDs\",\"orientation\":\"v\",\"showlegend\":true,\"textposition\":\"auto\",\"x\":[\"basel\",\"chemnitz\",\"erfurt\",\"graz\",\"halle\",\"mainz\",\"marburg\",\"stuttgart\",\"wien\"],\"xaxis\":\"x\",\"y\":[504,122,138,250,1070,182,901,615,443],\"yaxis\":\"y\",\"type\":\"bar\"},{\"alignmentgroup\":\"True\",\"hovertemplate\":\"variable=Unique identified GNDs (authors)<br>University=%{x}<br>value=%{y}<extra></extra>\",\"legendgroup\":\"Unique identified GNDs (authors)\",\"marker\":{\"color\":\"royalblue\",\"pattern\":{\"shape\":\"\"}},\"name\":\"Unique identified GNDs (authors)\",\"offsetgroup\":\"Unique identified GNDs (authors)\",\"orientation\":\"v\",\"showlegend\":true,\"textposition\":\"auto\",\"x\":[\"basel\",\"chemnitz\",\"erfurt\",\"graz\",\"halle\",\"mainz\",\"marburg\",\"stuttgart\",\"wien\"],\"xaxis\":\"x\",\"y\":[313,87,86,203,528,133,401,374,309],\"yaxis\":\"y\",\"type\":\"bar\"}],                        {\"template\":{\"data\":{\"histogram2dcontour\":[{\"type\":\"histogram2dcontour\",\"colorbar\":{\"outlinewidth\":0,\"ticks\":\"\"},\"colorscale\":[[0.0,\"#0d0887\"],[0.1111111111111111,\"#46039f\"],[0.2222222222222222,\"#7201a8\"],[0.3333333333333333,\"#9c179e\"],[0.4444444444444444,\"#bd3786\"],[0.5555555555555556,\"#d8576b\"],[0.6666666666666666,\"#ed7953\"],[0.7777777777777778,\"#fb9f3a\"],[0.8888888888888888,\"#fdca26\"],[1.0,\"#f0f921\"]]}],\"choropleth\":[{\"type\":\"choropleth\",\"colorbar\":{\"outlinewidth\":0,\"ticks\":\"\"}}],\"histogram2d\":[{\"type\":\"histogram2d\",\"colorbar\":{\"outlinewidth\":0,\"ticks\":\"\"},\"colorscale\":[[0.0,\"#0d0887\"],[0.1111111111111111,\"#46039f\"],[0.2222222222222222,\"#7201a8\"],[0.3333333333333333,\"#9c179e\"],[0.4444444444444444,\"#bd3786\"],[0.5555555555555556,\"#d8576b\"],[0.6666666666666666,\"#ed7953\"],[0.7777777777777778,\"#fb9f3a\"],[0.8888888888888888,\"#fdca26\"],[1.0,\"#f0f921\"]]}],\"heatmap\":[{\"type\":\"heatmap\",\"colorbar\":{\"outlinewidth\":0,\"ticks\":\"\"},\"colorscale\":[[0.0,\"#0d0887\"],[0.1111111111111111,\"#46039f\"],[0.2222222222222222,\"#7201a8\"],[0.3333333333333333,\"#9c179e\"],[0.4444444444444444,\"#bd3786\"],[0.5555555555555556,\"#d8576b\"],[0.6666666666666666,\"#ed7953\"],[0.7777777777777778,\"#fb9f3a\"],[0.8888888888888888,\"#fdca26\"],[1.0,\"#f0f921\"]]}],\"heatmapgl\":[{\"type\":\"heatmapgl\",\"colorbar\":{\"outlinewidth\":0,\"ticks\":\"\"},\"colorscale\":[[0.0,\"#0d0887\"],[0.1111111111111111,\"#46039f\"],[0.2222222222222222,\"#7201a8\"],[0.3333333333333333,\"#9c179e\"],[0.4444444444444444,\"#bd3786\"],[0.5555555555555556,\"#d8576b\"],[0.6666666666666666,\"#ed7953\"],[0.7777777777777778,\"#fb9f3a\"],[0.8888888888888888,\"#fdca26\"],[1.0,\"#f0f921\"]]}],\"contourcarpet\":[{\"type\":\"contourcarpet\",\"colorbar\":{\"outlinewidth\":0,\"ticks\":\"\"}}],\"contour\":[{\"type\":\"contour\",\"colorbar\":{\"outlinewidth\":0,\"ticks\":\"\"},\"colorscale\":[[0.0,\"#0d0887\"],[0.1111111111111111,\"#46039f\"],[0.2222222222222222,\"#7201a8\"],[0.3333333333333333,\"#9c179e\"],[0.4444444444444444,\"#bd3786\"],[0.5555555555555556,\"#d8576b\"],[0.6666666666666666,\"#ed7953\"],[0.7777777777777778,\"#fb9f3a\"],[0.8888888888888888,\"#fdca26\"],[1.0,\"#f0f921\"]]}],\"surface\":[{\"type\":\"surface\",\"colorbar\":{\"outlinewidth\":0,\"ticks\":\"\"},\"colorscale\":[[0.0,\"#0d0887\"],[0.1111111111111111,\"#46039f\"],[0.2222222222222222,\"#7201a8\"],[0.3333333333333333,\"#9c179e\"],[0.4444444444444444,\"#bd3786\"],[0.5555555555555556,\"#d8576b\"],[0.6666666666666666,\"#ed7953\"],[0.7777777777777778,\"#fb9f3a\"],[0.8888888888888888,\"#fdca26\"],[1.0,\"#f0f921\"]]}],\"mesh3d\":[{\"type\":\"mesh3d\",\"colorbar\":{\"outlinewidth\":0,\"ticks\":\"\"}}],\"scatter\":[{\"fillpattern\":{\"fillmode\":\"overlay\",\"size\":10,\"solidity\":0.2},\"type\":\"scatter\"}],\"parcoords\":[{\"type\":\"parcoords\",\"line\":{\"colorbar\":{\"outlinewidth\":0,\"ticks\":\"\"}}}],\"scatterpolargl\":[{\"type\":\"scatterpolargl\",\"marker\":{\"colorbar\":{\"outlinewidth\":0,\"ticks\":\"\"}}}],\"bar\":[{\"error_x\":{\"color\":\"#2a3f5f\"},\"error_y\":{\"color\":\"#2a3f5f\"},\"marker\":{\"line\":{\"color\":\"#E5ECF6\",\"width\":0.5},\"pattern\":{\"fillmode\":\"overlay\",\"size\":10,\"solidity\":0.2}},\"type\":\"bar\"}],\"scattergeo\":[{\"type\":\"scattergeo\",\"marker\":{\"colorbar\":{\"outlinewidth\":0,\"ticks\":\"\"}}}],\"scatterpolar\":[{\"type\":\"scatterpolar\",\"marker\":{\"colorbar\":{\"outlinewidth\":0,\"ticks\":\"\"}}}],\"histogram\":[{\"marker\":{\"pattern\":{\"fillmode\":\"overlay\",\"size\":10,\"solidity\":0.2}},\"type\":\"histogram\"}],\"scattergl\":[{\"type\":\"scattergl\",\"marker\":{\"colorbar\":{\"outlinewidth\":0,\"ticks\":\"\"}}}],\"scatter3d\":[{\"type\":\"scatter3d\",\"line\":{\"colorbar\":{\"outlinewidth\":0,\"ticks\":\"\"}},\"marker\":{\"colorbar\":{\"outlinewidth\":0,\"ticks\":\"\"}}}],\"scattermapbox\":[{\"type\":\"scattermapbox\",\"marker\":{\"colorbar\":{\"outlinewidth\":0,\"ticks\":\"\"}}}],\"scatterternary\":[{\"type\":\"scatterternary\",\"marker\":{\"colorbar\":{\"outlinewidth\":0,\"ticks\":\"\"}}}],\"scattercarpet\":[{\"type\":\"scattercarpet\",\"marker\":{\"colorbar\":{\"outlinewidth\":0,\"ticks\":\"\"}}}],\"carpet\":[{\"aaxis\":{\"endlinecolor\":\"#2a3f5f\",\"gridcolor\":\"white\",\"linecolor\":\"white\",\"minorgridcolor\":\"white\",\"startlinecolor\":\"#2a3f5f\"},\"baxis\":{\"endlinecolor\":\"#2a3f5f\",\"gridcolor\":\"white\",\"linecolor\":\"white\",\"minorgridcolor\":\"white\",\"startlinecolor\":\"#2a3f5f\"},\"type\":\"carpet\"}],\"table\":[{\"cells\":{\"fill\":{\"color\":\"#EBF0F8\"},\"line\":{\"color\":\"white\"}},\"header\":{\"fill\":{\"color\":\"#C8D4E3\"},\"line\":{\"color\":\"white\"}},\"type\":\"table\"}],\"barpolar\":[{\"marker\":{\"line\":{\"color\":\"#E5ECF6\",\"width\":0.5},\"pattern\":{\"fillmode\":\"overlay\",\"size\":10,\"solidity\":0.2}},\"type\":\"barpolar\"}],\"pie\":[{\"automargin\":true,\"type\":\"pie\"}]},\"layout\":{\"autotypenumbers\":\"strict\",\"colorway\":[\"#636efa\",\"#EF553B\",\"#00cc96\",\"#ab63fa\",\"#FFA15A\",\"#19d3f3\",\"#FF6692\",\"#B6E880\",\"#FF97FF\",\"#FECB52\"],\"font\":{\"color\":\"#2a3f5f\"},\"hovermode\":\"closest\",\"hoverlabel\":{\"align\":\"left\"},\"paper_bgcolor\":\"white\",\"plot_bgcolor\":\"#E5ECF6\",\"polar\":{\"bgcolor\":\"#E5ECF6\",\"angularaxis\":{\"gridcolor\":\"white\",\"linecolor\":\"white\",\"ticks\":\"\"},\"radialaxis\":{\"gridcolor\":\"white\",\"linecolor\":\"white\",\"ticks\":\"\"}},\"ternary\":{\"bgcolor\":\"#E5ECF6\",\"aaxis\":{\"gridcolor\":\"white\",\"linecolor\":\"white\",\"ticks\":\"\"},\"baxis\":{\"gridcolor\":\"white\",\"linecolor\":\"white\",\"ticks\":\"\"},\"caxis\":{\"gridcolor\":\"white\",\"linecolor\":\"white\",\"ticks\":\"\"}},\"coloraxis\":{\"colorbar\":{\"outlinewidth\":0,\"ticks\":\"\"}},\"colorscale\":{\"sequential\":[[0.0,\"#0d0887\"],[0.1111111111111111,\"#46039f\"],[0.2222222222222222,\"#7201a8\"],[0.3333333333333333,\"#9c179e\"],[0.4444444444444444,\"#bd3786\"],[0.5555555555555556,\"#d8576b\"],[0.6666666666666666,\"#ed7953\"],[0.7777777777777778,\"#fb9f3a\"],[0.8888888888888888,\"#fdca26\"],[1.0,\"#f0f921\"]],\"sequentialminus\":[[0.0,\"#0d0887\"],[0.1111111111111111,\"#46039f\"],[0.2222222222222222,\"#7201a8\"],[0.3333333333333333,\"#9c179e\"],[0.4444444444444444,\"#bd3786\"],[0.5555555555555556,\"#d8576b\"],[0.6666666666666666,\"#ed7953\"],[0.7777777777777778,\"#fb9f3a\"],[0.8888888888888888,\"#fdca26\"],[1.0,\"#f0f921\"]],\"diverging\":[[0,\"#8e0152\"],[0.1,\"#c51b7d\"],[0.2,\"#de77ae\"],[0.3,\"#f1b6da\"],[0.4,\"#fde0ef\"],[0.5,\"#f7f7f7\"],[0.6,\"#e6f5d0\"],[0.7,\"#b8e186\"],[0.8,\"#7fbc41\"],[0.9,\"#4d9221\"],[1,\"#276419\"]]},\"xaxis\":{\"gridcolor\":\"white\",\"linecolor\":\"white\",\"ticks\":\"\",\"title\":{\"standoff\":15},\"zerolinecolor\":\"white\",\"automargin\":true,\"zerolinewidth\":2},\"yaxis\":{\"gridcolor\":\"white\",\"linecolor\":\"white\",\"ticks\":\"\",\"title\":{\"standoff\":15},\"zerolinecolor\":\"white\",\"automargin\":true,\"zerolinewidth\":2},\"scene\":{\"xaxis\":{\"backgroundcolor\":\"#E5ECF6\",\"gridcolor\":\"white\",\"linecolor\":\"white\",\"showbackground\":true,\"ticks\":\"\",\"zerolinecolor\":\"white\",\"gridwidth\":2},\"yaxis\":{\"backgroundcolor\":\"#E5ECF6\",\"gridcolor\":\"white\",\"linecolor\":\"white\",\"showbackground\":true,\"ticks\":\"\",\"zerolinecolor\":\"white\",\"gridwidth\":2},\"zaxis\":{\"backgroundcolor\":\"#E5ECF6\",\"gridcolor\":\"white\",\"linecolor\":\"white\",\"showbackground\":true,\"ticks\":\"\",\"zerolinecolor\":\"white\",\"gridwidth\":2}},\"shapedefaults\":{\"line\":{\"color\":\"#2a3f5f\"}},\"annotationdefaults\":{\"arrowcolor\":\"#2a3f5f\",\"arrowhead\":0,\"arrowwidth\":1},\"geo\":{\"bgcolor\":\"white\",\"landcolor\":\"#E5ECF6\",\"subunitcolor\":\"white\",\"showland\":true,\"showlakes\":true,\"lakecolor\":\"white\"},\"title\":{\"x\":0.05},\"mapbox\":{\"style\":\"light\"}}},\"xaxis\":{\"anchor\":\"y\",\"domain\":[0.0,1.0],\"title\":{\"text\":\"University\"}},\"yaxis\":{\"anchor\":\"x\",\"domain\":[0.0,1.0],\"title\":{\"text\":\"value\"}},\"legend\":{\"title\":{\"text\":\"variable\"},\"tracegroupgap\":0},\"margin\":{\"t\":60},\"barmode\":\"group\"},                        {\"responsive\": true}                    ).then(function(){\n",
       "                            \n",
       "var gd = document.getElementById('9d9882dd-ed29-4cf0-bb5c-47684350b341');\n",
       "var x = new MutationObserver(function (mutations, observer) {{\n",
       "        var display = window.getComputedStyle(gd).display;\n",
       "        if (!display || display === 'none') {{\n",
       "            console.log([gd, 'removed!']);\n",
       "            Plotly.purge(gd);\n",
       "            observer.disconnect();\n",
       "        }}\n",
       "}});\n",
       "\n",
       "// Listen for the removal of the full notebook cells\n",
       "var notebookContainer = gd.closest('#notebook-container');\n",
       "if (notebookContainer) {{\n",
       "    x.observe(notebookContainer, {childList: true});\n",
       "}}\n",
       "\n",
       "// Listen for the clearing of the current output cell\n",
       "var outputEl = gd.closest('.output');\n",
       "if (outputEl) {{\n",
       "    x.observe(outputEl, {childList: true});\n",
       "}}\n",
       "\n",
       "                        })                };                });            </script>        </div>"
      ]
     },
     "metadata": {},
     "output_type": "display_data"
    }
   ],
   "source": [
    "#result_sorted = result.sort_values(by=\"Unique identified NEs\", ascending=False)\n",
    "fig = px.bar(result, x=\"University\", y=[\"Unique identified NEs\", \"Unique identified GNDs\", \"Unique identified GNDs (authors)\"],\n",
    "            barmode=\"group\", color_discrete_sequence=[\"orange\", \"mediumorchid\", \"royalblue\"])\n",
    "fig.show()"
   ]
  },
  {
   "cell_type": "markdown",
   "id": "5b1ef215",
   "metadata": {},
   "source": [
    "# Compute number of mention per uni, country and author"
   ]
  },
  {
   "cell_type": "code",
   "execution_count": 16,
   "id": "b5d24a0a",
   "metadata": {},
   "outputs": [],
   "source": [
    "result = result.set_index(\"University\")"
   ]
  },
  {
   "cell_type": "code",
   "execution_count": 17,
   "id": "3b44dfb9",
   "metadata": {},
   "outputs": [
    {
     "data": {
      "text/html": [
       "<div>\n",
       "<style scoped>\n",
       "    .dataframe tbody tr th:only-of-type {\n",
       "        vertical-align: middle;\n",
       "    }\n",
       "\n",
       "    .dataframe tbody tr th {\n",
       "        vertical-align: top;\n",
       "    }\n",
       "\n",
       "    .dataframe thead th {\n",
       "        text-align: right;\n",
       "    }\n",
       "</style>\n",
       "<table border=\"1\" class=\"dataframe\">\n",
       "  <thead>\n",
       "    <tr style=\"text-align: right;\">\n",
       "      <th></th>\n",
       "      <th>GND-Nummer</th>\n",
       "      <th>basel</th>\n",
       "      <th>chemnitz</th>\n",
       "      <th>erfurt</th>\n",
       "      <th>graz</th>\n",
       "      <th>halle</th>\n",
       "      <th>mainz</th>\n",
       "      <th>marburg</th>\n",
       "      <th>stuttgart</th>\n",
       "      <th>wien</th>\n",
       "      <th>basel_rel</th>\n",
       "      <th>chemnitz_rel</th>\n",
       "      <th>erfurt_rel</th>\n",
       "      <th>graz_rel</th>\n",
       "      <th>halle_rel</th>\n",
       "      <th>mainz_rel</th>\n",
       "      <th>marburg_rel</th>\n",
       "      <th>stuttgart_rel</th>\n",
       "      <th>wien_rel</th>\n",
       "    </tr>\n",
       "  </thead>\n",
       "  <tbody>\n",
       "    <tr>\n",
       "      <th>0</th>\n",
       "      <td>100232000</td>\n",
       "      <td>0.0</td>\n",
       "      <td>0.0</td>\n",
       "      <td>0.0</td>\n",
       "      <td>1.0</td>\n",
       "      <td>0.0</td>\n",
       "      <td>0.0</td>\n",
       "      <td>0.0</td>\n",
       "      <td>0.0</td>\n",
       "      <td>0.0</td>\n",
       "      <td>0.000000</td>\n",
       "      <td>0.0</td>\n",
       "      <td>0.0</td>\n",
       "      <td>0.002674</td>\n",
       "      <td>0.000000</td>\n",
       "      <td>0.0</td>\n",
       "      <td>0.000000</td>\n",
       "      <td>0.00000</td>\n",
       "      <td>0.000000</td>\n",
       "    </tr>\n",
       "    <tr>\n",
       "      <th>1</th>\n",
       "      <td>100689590</td>\n",
       "      <td>0.0</td>\n",
       "      <td>0.0</td>\n",
       "      <td>0.0</td>\n",
       "      <td>0.0</td>\n",
       "      <td>1.0</td>\n",
       "      <td>0.0</td>\n",
       "      <td>1.0</td>\n",
       "      <td>0.0</td>\n",
       "      <td>0.0</td>\n",
       "      <td>0.000000</td>\n",
       "      <td>0.0</td>\n",
       "      <td>0.0</td>\n",
       "      <td>0.000000</td>\n",
       "      <td>0.000521</td>\n",
       "      <td>0.0</td>\n",
       "      <td>0.000925</td>\n",
       "      <td>0.00000</td>\n",
       "      <td>0.000000</td>\n",
       "    </tr>\n",
       "    <tr>\n",
       "      <th>2</th>\n",
       "      <td>1011358441</td>\n",
       "      <td>0.0</td>\n",
       "      <td>0.0</td>\n",
       "      <td>0.0</td>\n",
       "      <td>0.0</td>\n",
       "      <td>1.0</td>\n",
       "      <td>0.0</td>\n",
       "      <td>0.0</td>\n",
       "      <td>0.0</td>\n",
       "      <td>0.0</td>\n",
       "      <td>0.000000</td>\n",
       "      <td>0.0</td>\n",
       "      <td>0.0</td>\n",
       "      <td>0.000000</td>\n",
       "      <td>0.000521</td>\n",
       "      <td>0.0</td>\n",
       "      <td>0.000000</td>\n",
       "      <td>0.00000</td>\n",
       "      <td>0.000000</td>\n",
       "    </tr>\n",
       "    <tr>\n",
       "      <th>3</th>\n",
       "      <td>10124505X</td>\n",
       "      <td>1.0</td>\n",
       "      <td>0.0</td>\n",
       "      <td>0.0</td>\n",
       "      <td>0.0</td>\n",
       "      <td>0.0</td>\n",
       "      <td>0.0</td>\n",
       "      <td>0.0</td>\n",
       "      <td>0.0</td>\n",
       "      <td>0.0</td>\n",
       "      <td>0.001171</td>\n",
       "      <td>0.0</td>\n",
       "      <td>0.0</td>\n",
       "      <td>0.000000</td>\n",
       "      <td>0.000000</td>\n",
       "      <td>0.0</td>\n",
       "      <td>0.000000</td>\n",
       "      <td>0.00000</td>\n",
       "      <td>0.000000</td>\n",
       "    </tr>\n",
       "    <tr>\n",
       "      <th>4</th>\n",
       "      <td>1012609324</td>\n",
       "      <td>3.0</td>\n",
       "      <td>0.0</td>\n",
       "      <td>0.0</td>\n",
       "      <td>0.0</td>\n",
       "      <td>0.0</td>\n",
       "      <td>0.0</td>\n",
       "      <td>1.0</td>\n",
       "      <td>0.0</td>\n",
       "      <td>4.0</td>\n",
       "      <td>0.003513</td>\n",
       "      <td>0.0</td>\n",
       "      <td>0.0</td>\n",
       "      <td>0.000000</td>\n",
       "      <td>0.000000</td>\n",
       "      <td>0.0</td>\n",
       "      <td>0.000925</td>\n",
       "      <td>0.00000</td>\n",
       "      <td>0.005658</td>\n",
       "    </tr>\n",
       "    <tr>\n",
       "      <th>...</th>\n",
       "      <td>...</td>\n",
       "      <td>...</td>\n",
       "      <td>...</td>\n",
       "      <td>...</td>\n",
       "      <td>...</td>\n",
       "      <td>...</td>\n",
       "      <td>...</td>\n",
       "      <td>...</td>\n",
       "      <td>...</td>\n",
       "      <td>...</td>\n",
       "      <td>...</td>\n",
       "      <td>...</td>\n",
       "      <td>...</td>\n",
       "      <td>...</td>\n",
       "      <td>...</td>\n",
       "      <td>...</td>\n",
       "      <td>...</td>\n",
       "      <td>...</td>\n",
       "      <td>...</td>\n",
       "    </tr>\n",
       "    <tr>\n",
       "      <th>1231</th>\n",
       "      <td>143017152</td>\n",
       "      <td>0.0</td>\n",
       "      <td>0.0</td>\n",
       "      <td>0.0</td>\n",
       "      <td>0.0</td>\n",
       "      <td>1.0</td>\n",
       "      <td>0.0</td>\n",
       "      <td>0.0</td>\n",
       "      <td>0.0</td>\n",
       "      <td>0.0</td>\n",
       "      <td>0.000000</td>\n",
       "      <td>0.0</td>\n",
       "      <td>0.0</td>\n",
       "      <td>0.000000</td>\n",
       "      <td>0.000521</td>\n",
       "      <td>0.0</td>\n",
       "      <td>0.000000</td>\n",
       "      <td>0.00000</td>\n",
       "      <td>0.000000</td>\n",
       "    </tr>\n",
       "    <tr>\n",
       "      <th>1232</th>\n",
       "      <td>143302795</td>\n",
       "      <td>0.0</td>\n",
       "      <td>0.0</td>\n",
       "      <td>0.0</td>\n",
       "      <td>0.0</td>\n",
       "      <td>0.0</td>\n",
       "      <td>0.0</td>\n",
       "      <td>0.0</td>\n",
       "      <td>0.0</td>\n",
       "      <td>2.0</td>\n",
       "      <td>0.000000</td>\n",
       "      <td>0.0</td>\n",
       "      <td>0.0</td>\n",
       "      <td>0.000000</td>\n",
       "      <td>0.000000</td>\n",
       "      <td>0.0</td>\n",
       "      <td>0.000000</td>\n",
       "      <td>0.00000</td>\n",
       "      <td>0.002829</td>\n",
       "    </tr>\n",
       "    <tr>\n",
       "      <th>1233</th>\n",
       "      <td>143575937</td>\n",
       "      <td>1.0</td>\n",
       "      <td>0.0</td>\n",
       "      <td>0.0</td>\n",
       "      <td>0.0</td>\n",
       "      <td>0.0</td>\n",
       "      <td>0.0</td>\n",
       "      <td>0.0</td>\n",
       "      <td>0.0</td>\n",
       "      <td>0.0</td>\n",
       "      <td>0.001171</td>\n",
       "      <td>0.0</td>\n",
       "      <td>0.0</td>\n",
       "      <td>0.000000</td>\n",
       "      <td>0.000000</td>\n",
       "      <td>0.0</td>\n",
       "      <td>0.000000</td>\n",
       "      <td>0.00000</td>\n",
       "      <td>0.000000</td>\n",
       "    </tr>\n",
       "    <tr>\n",
       "      <th>1234</th>\n",
       "      <td>143811959</td>\n",
       "      <td>3.0</td>\n",
       "      <td>0.0</td>\n",
       "      <td>0.0</td>\n",
       "      <td>0.0</td>\n",
       "      <td>0.0</td>\n",
       "      <td>0.0</td>\n",
       "      <td>1.0</td>\n",
       "      <td>4.0</td>\n",
       "      <td>0.0</td>\n",
       "      <td>0.003513</td>\n",
       "      <td>0.0</td>\n",
       "      <td>0.0</td>\n",
       "      <td>0.000000</td>\n",
       "      <td>0.000000</td>\n",
       "      <td>0.0</td>\n",
       "      <td>0.000925</td>\n",
       "      <td>0.00385</td>\n",
       "      <td>0.000000</td>\n",
       "    </tr>\n",
       "    <tr>\n",
       "      <th>1235</th>\n",
       "      <td>173913873</td>\n",
       "      <td>0.0</td>\n",
       "      <td>0.0</td>\n",
       "      <td>0.0</td>\n",
       "      <td>3.0</td>\n",
       "      <td>0.0</td>\n",
       "      <td>0.0</td>\n",
       "      <td>0.0</td>\n",
       "      <td>0.0</td>\n",
       "      <td>0.0</td>\n",
       "      <td>0.000000</td>\n",
       "      <td>0.0</td>\n",
       "      <td>0.0</td>\n",
       "      <td>0.008021</td>\n",
       "      <td>0.000000</td>\n",
       "      <td>0.0</td>\n",
       "      <td>0.000000</td>\n",
       "      <td>0.00000</td>\n",
       "      <td>0.000000</td>\n",
       "    </tr>\n",
       "  </tbody>\n",
       "</table>\n",
       "<p>1236 rows × 19 columns</p>\n",
       "</div>"
      ],
      "text/plain": [
       "      GND-Nummer  basel  chemnitz  erfurt  graz  halle  mainz  marburg  \\\n",
       "0      100232000    0.0       0.0     0.0   1.0    0.0    0.0      0.0   \n",
       "1      100689590    0.0       0.0     0.0   0.0    1.0    0.0      1.0   \n",
       "2     1011358441    0.0       0.0     0.0   0.0    1.0    0.0      0.0   \n",
       "3      10124505X    1.0       0.0     0.0   0.0    0.0    0.0      0.0   \n",
       "4     1012609324    3.0       0.0     0.0   0.0    0.0    0.0      1.0   \n",
       "...          ...    ...       ...     ...   ...    ...    ...      ...   \n",
       "1231   143017152    0.0       0.0     0.0   0.0    1.0    0.0      0.0   \n",
       "1232   143302795    0.0       0.0     0.0   0.0    0.0    0.0      0.0   \n",
       "1233   143575937    1.0       0.0     0.0   0.0    0.0    0.0      0.0   \n",
       "1234   143811959    3.0       0.0     0.0   0.0    0.0    0.0      1.0   \n",
       "1235   173913873    0.0       0.0     0.0   3.0    0.0    0.0      0.0   \n",
       "\n",
       "      stuttgart  wien  basel_rel  chemnitz_rel  erfurt_rel  graz_rel  \\\n",
       "0           0.0   0.0   0.000000           0.0         0.0  0.002674   \n",
       "1           0.0   0.0   0.000000           0.0         0.0  0.000000   \n",
       "2           0.0   0.0   0.000000           0.0         0.0  0.000000   \n",
       "3           0.0   0.0   0.001171           0.0         0.0  0.000000   \n",
       "4           0.0   4.0   0.003513           0.0         0.0  0.000000   \n",
       "...         ...   ...        ...           ...         ...       ...   \n",
       "1231        0.0   0.0   0.000000           0.0         0.0  0.000000   \n",
       "1232        0.0   2.0   0.000000           0.0         0.0  0.000000   \n",
       "1233        0.0   0.0   0.001171           0.0         0.0  0.000000   \n",
       "1234        4.0   0.0   0.003513           0.0         0.0  0.000000   \n",
       "1235        0.0   0.0   0.000000           0.0         0.0  0.008021   \n",
       "\n",
       "      halle_rel  mainz_rel  marburg_rel  stuttgart_rel  wien_rel  \n",
       "0      0.000000        0.0     0.000000        0.00000  0.000000  \n",
       "1      0.000521        0.0     0.000925        0.00000  0.000000  \n",
       "2      0.000521        0.0     0.000000        0.00000  0.000000  \n",
       "3      0.000000        0.0     0.000000        0.00000  0.000000  \n",
       "4      0.000000        0.0     0.000925        0.00000  0.005658  \n",
       "...         ...        ...          ...            ...       ...  \n",
       "1231   0.000521        0.0     0.000000        0.00000  0.000000  \n",
       "1232   0.000000        0.0     0.000000        0.00000  0.002829  \n",
       "1233   0.000000        0.0     0.000000        0.00000  0.000000  \n",
       "1234   0.000000        0.0     0.000925        0.00385  0.000000  \n",
       "1235   0.000000        0.0     0.000000        0.00000  0.000000  \n",
       "\n",
       "[1236 rows x 19 columns]"
      ]
     },
     "execution_count": 17,
     "metadata": {},
     "output_type": "execute_result"
    }
   ],
   "source": [
    "# Explode the lists in 'people_ids' column\n",
    "lvs_exploded_inhalt = lvs.explode(\"NER_GNDs_Inhalt\")\n",
    "\n",
    "# Merge the exploded events DataFrame with the people DataFrame\n",
    "merged_df = lvs_exploded_inhalt.merge(authors, left_on='NER_GNDs_Inhalt', right_on='GND-Nummer')\n",
    "\n",
    "# Group by person and location, and count the number of involvements\n",
    "grouped_df = merged_df.groupby(['GND-Nummer', 'Universität']).size().reset_index(name='count')\n",
    "\n",
    "# Pivot the table to get the desired format\n",
    "pivot_df = grouped_df.pivot(index='GND-Nummer', columns='Universität', values='count').fillna(0)\n",
    "\n",
    "# Reset the index to get a clean DataFrame\n",
    "result_authors_per_uni = pivot_df.reset_index().rename_axis(None, axis=1)\n",
    "\n",
    "for col in result_authors_per_uni.columns:\n",
    "    if col != \"GND-Nummer\":\n",
    "        result_authors_per_uni[col  +\"_rel\"] = result_authors_per_uni[col]/result[\"Number of author GNDs\"].loc[col]\n",
    "result_authors_per_uni"
   ]
  },
  {
   "cell_type": "code",
   "execution_count": 20,
   "id": "45a16a92",
   "metadata": {},
   "outputs": [],
   "source": [
    "result_authors_per_uni[\"inhalt_total\"] = 0\n",
    "for col in result_authors_per_uni.columns:\n",
    "    if col != \"GND-Nummer\" and col != \"inhalt_total\" and \"rel\" not in col:\n",
    "        result_authors_per_uni[\"inhalt_total\"] += result_authors_per_uni[col]"
   ]
  },
  {
   "cell_type": "code",
   "execution_count": 22,
   "id": "5d657fa9",
   "metadata": {},
   "outputs": [
    {
     "data": {
      "text/html": [
       "<div>\n",
       "<style scoped>\n",
       "    .dataframe tbody tr th:only-of-type {\n",
       "        vertical-align: middle;\n",
       "    }\n",
       "\n",
       "    .dataframe tbody tr th {\n",
       "        vertical-align: top;\n",
       "    }\n",
       "\n",
       "    .dataframe thead th {\n",
       "        text-align: right;\n",
       "    }\n",
       "</style>\n",
       "<table border=\"1\" class=\"dataframe\">\n",
       "  <thead>\n",
       "    <tr style=\"text-align: right;\">\n",
       "      <th></th>\n",
       "      <th>GND-Nummer</th>\n",
       "      <th>basel</th>\n",
       "      <th>chemnitz</th>\n",
       "      <th>erfurt</th>\n",
       "      <th>graz</th>\n",
       "      <th>halle</th>\n",
       "      <th>mainz</th>\n",
       "      <th>marburg</th>\n",
       "      <th>stuttgart</th>\n",
       "      <th>wien</th>\n",
       "      <th>basel_rel</th>\n",
       "      <th>chemnitz_rel</th>\n",
       "      <th>erfurt_rel</th>\n",
       "      <th>graz_rel</th>\n",
       "      <th>halle_rel</th>\n",
       "      <th>mainz_rel</th>\n",
       "      <th>marburg_rel</th>\n",
       "      <th>stuttgart_rel</th>\n",
       "      <th>wien_rel</th>\n",
       "      <th>inhalt_total</th>\n",
       "    </tr>\n",
       "  </thead>\n",
       "  <tbody>\n",
       "    <tr>\n",
       "      <th>347</th>\n",
       "      <td>118540238</td>\n",
       "      <td>27.0</td>\n",
       "      <td>12.0</td>\n",
       "      <td>9.0</td>\n",
       "      <td>14.0</td>\n",
       "      <td>83.0</td>\n",
       "      <td>29.0</td>\n",
       "      <td>40.0</td>\n",
       "      <td>62.0</td>\n",
       "      <td>15.0</td>\n",
       "      <td>0.031616</td>\n",
       "      <td>0.060914</td>\n",
       "      <td>0.046154</td>\n",
       "      <td>0.037433</td>\n",
       "      <td>0.043274</td>\n",
       "      <td>0.075718</td>\n",
       "      <td>0.037003</td>\n",
       "      <td>0.059673</td>\n",
       "      <td>0.021216</td>\n",
       "      <td>291.0</td>\n",
       "    </tr>\n",
       "    <tr>\n",
       "      <th>579</th>\n",
       "      <td>118607626</td>\n",
       "      <td>20.0</td>\n",
       "      <td>4.0</td>\n",
       "      <td>7.0</td>\n",
       "      <td>4.0</td>\n",
       "      <td>58.0</td>\n",
       "      <td>13.0</td>\n",
       "      <td>18.0</td>\n",
       "      <td>35.0</td>\n",
       "      <td>12.0</td>\n",
       "      <td>0.023419</td>\n",
       "      <td>0.020305</td>\n",
       "      <td>0.035897</td>\n",
       "      <td>0.010695</td>\n",
       "      <td>0.030240</td>\n",
       "      <td>0.033943</td>\n",
       "      <td>0.016651</td>\n",
       "      <td>0.033686</td>\n",
       "      <td>0.016973</td>\n",
       "      <td>171.0</td>\n",
       "    </tr>\n",
       "    <tr>\n",
       "      <th>406</th>\n",
       "      <td>118552465</td>\n",
       "      <td>14.0</td>\n",
       "      <td>8.0</td>\n",
       "      <td>12.0</td>\n",
       "      <td>5.0</td>\n",
       "      <td>41.0</td>\n",
       "      <td>6.0</td>\n",
       "      <td>28.0</td>\n",
       "      <td>33.0</td>\n",
       "      <td>7.0</td>\n",
       "      <td>0.016393</td>\n",
       "      <td>0.040609</td>\n",
       "      <td>0.061538</td>\n",
       "      <td>0.013369</td>\n",
       "      <td>0.021376</td>\n",
       "      <td>0.015666</td>\n",
       "      <td>0.025902</td>\n",
       "      <td>0.031761</td>\n",
       "      <td>0.009901</td>\n",
       "      <td>154.0</td>\n",
       "    </tr>\n",
       "    <tr>\n",
       "      <th>244</th>\n",
       "      <td>118514768</td>\n",
       "      <td>15.0</td>\n",
       "      <td>10.0</td>\n",
       "      <td>1.0</td>\n",
       "      <td>5.0</td>\n",
       "      <td>51.0</td>\n",
       "      <td>19.0</td>\n",
       "      <td>9.0</td>\n",
       "      <td>14.0</td>\n",
       "      <td>19.0</td>\n",
       "      <td>0.017564</td>\n",
       "      <td>0.050761</td>\n",
       "      <td>0.005128</td>\n",
       "      <td>0.013369</td>\n",
       "      <td>0.026590</td>\n",
       "      <td>0.049608</td>\n",
       "      <td>0.008326</td>\n",
       "      <td>0.013474</td>\n",
       "      <td>0.026874</td>\n",
       "      <td>143.0</td>\n",
       "    </tr>\n",
       "    <tr>\n",
       "      <th>451</th>\n",
       "      <td>118563076</td>\n",
       "      <td>23.0</td>\n",
       "      <td>5.0</td>\n",
       "      <td>4.0</td>\n",
       "      <td>2.0</td>\n",
       "      <td>35.0</td>\n",
       "      <td>9.0</td>\n",
       "      <td>23.0</td>\n",
       "      <td>30.0</td>\n",
       "      <td>9.0</td>\n",
       "      <td>0.026932</td>\n",
       "      <td>0.025381</td>\n",
       "      <td>0.020513</td>\n",
       "      <td>0.005348</td>\n",
       "      <td>0.018248</td>\n",
       "      <td>0.023499</td>\n",
       "      <td>0.021277</td>\n",
       "      <td>0.028874</td>\n",
       "      <td>0.012730</td>\n",
       "      <td>140.0</td>\n",
       "    </tr>\n",
       "  </tbody>\n",
       "</table>\n",
       "</div>"
      ],
      "text/plain": [
       "    GND-Nummer  basel  chemnitz  erfurt  graz  halle  mainz  marburg  \\\n",
       "347  118540238   27.0      12.0     9.0  14.0   83.0   29.0     40.0   \n",
       "579  118607626   20.0       4.0     7.0   4.0   58.0   13.0     18.0   \n",
       "406  118552465   14.0       8.0    12.0   5.0   41.0    6.0     28.0   \n",
       "244  118514768   15.0      10.0     1.0   5.0   51.0   19.0      9.0   \n",
       "451  118563076   23.0       5.0     4.0   2.0   35.0    9.0     23.0   \n",
       "\n",
       "     stuttgart  wien  basel_rel  chemnitz_rel  erfurt_rel  graz_rel  \\\n",
       "347       62.0  15.0   0.031616      0.060914    0.046154  0.037433   \n",
       "579       35.0  12.0   0.023419      0.020305    0.035897  0.010695   \n",
       "406       33.0   7.0   0.016393      0.040609    0.061538  0.013369   \n",
       "244       14.0  19.0   0.017564      0.050761    0.005128  0.013369   \n",
       "451       30.0   9.0   0.026932      0.025381    0.020513  0.005348   \n",
       "\n",
       "     halle_rel  mainz_rel  marburg_rel  stuttgart_rel  wien_rel  inhalt_total  \n",
       "347   0.043274   0.075718     0.037003       0.059673  0.021216         291.0  \n",
       "579   0.030240   0.033943     0.016651       0.033686  0.016973         171.0  \n",
       "406   0.021376   0.015666     0.025902       0.031761  0.009901         154.0  \n",
       "244   0.026590   0.049608     0.008326       0.013474  0.026874         143.0  \n",
       "451   0.018248   0.023499     0.021277       0.028874  0.012730         140.0  "
      ]
     },
     "execution_count": 22,
     "metadata": {},
     "output_type": "execute_result"
    }
   ],
   "source": [
    "result_authors_per_uni.sort_values(by=\"inhalt_total\", ascending=False).head()"
   ]
  },
  {
   "cell_type": "code",
   "execution_count": 23,
   "id": "740b2cb8",
   "metadata": {},
   "outputs": [],
   "source": [
    "# Merge the exploded events DataFrame with the people DataFrame\n",
    "authors_with_counts = authors.merge(result_authors_per_uni, left_on='GND-Nummer', right_on='GND-Nummer')"
   ]
  },
  {
   "cell_type": "code",
   "execution_count": 26,
   "id": "da380d07",
   "metadata": {},
   "outputs": [],
   "source": [
    "# Add relative counts for countries\n",
    "authors_with_counts[\"Ö_inhalt_relrel\"] = (authors_with_counts[\"graz_rel\"]+authors_with_counts[\"wien_rel\"])/2\n",
    "authors_with_counts[\"S_inhalt_relrel\"] =  authors_with_counts[\"basel_rel\"]\n",
    "authors_with_counts[\"D_inhalt_relrel\"] = (authors_with_counts[\"mainz_rel\"] + authors_with_counts[\"stuttgart_rel\"] +\n",
    "                                          authors_with_counts[\"marburg_rel\"] + authors_with_counts[\"chemnitz_rel\"] +\n",
    "                                          authors_with_counts[\"erfurt_rel\"] + authors_with_counts[\"halle_rel\"])/2\n"
   ]
  },
  {
   "cell_type": "code",
   "execution_count": 27,
   "id": "5e9e22ca",
   "metadata": {},
   "outputs": [
    {
     "data": {
      "text/html": [
       "<div>\n",
       "<style scoped>\n",
       "    .dataframe tbody tr th:only-of-type {\n",
       "        vertical-align: middle;\n",
       "    }\n",
       "\n",
       "    .dataframe tbody tr th {\n",
       "        vertical-align: top;\n",
       "    }\n",
       "\n",
       "    .dataframe thead th {\n",
       "        text-align: right;\n",
       "    }\n",
       "</style>\n",
       "<table border=\"1\" class=\"dataframe\">\n",
       "  <thead>\n",
       "    <tr style=\"text-align: right;\">\n",
       "      <th></th>\n",
       "      <th>Bevorzugter Name</th>\n",
       "      <th>Ländercode</th>\n",
       "      <th>Beruf oder Beschäftigung</th>\n",
       "      <th>GND-Nummer</th>\n",
       "      <th>Geburtsdatum</th>\n",
       "      <th>Geschlecht</th>\n",
       "      <th>Austrian</th>\n",
       "      <th>German</th>\n",
       "      <th>Swiss</th>\n",
       "      <th>Land</th>\n",
       "      <th>...</th>\n",
       "      <th>halle_rel</th>\n",
       "      <th>mainz_rel</th>\n",
       "      <th>marburg_rel</th>\n",
       "      <th>stuttgart_rel</th>\n",
       "      <th>wien_rel</th>\n",
       "      <th>inhalt_total</th>\n",
       "      <th>Ö_inhalt_relrel</th>\n",
       "      <th>S_inhalt_relrel</th>\n",
       "      <th>D_inhalt_relrel</th>\n",
       "      <th>inhalt_relrelrel</th>\n",
       "    </tr>\n",
       "  </thead>\n",
       "  <tbody>\n",
       "    <tr>\n",
       "      <th>0</th>\n",
       "      <td>Hanika, Iris</td>\n",
       "      <td>Deutschland</td>\n",
       "      <td>Schriftsteller</td>\n",
       "      <td>124637140</td>\n",
       "      <td>1962</td>\n",
       "      <td>Weiblich</td>\n",
       "      <td>0.0</td>\n",
       "      <td>1.0</td>\n",
       "      <td>0.0</td>\n",
       "      <td>D</td>\n",
       "      <td>...</td>\n",
       "      <td>0.000521</td>\n",
       "      <td>0.000000</td>\n",
       "      <td>0.000000</td>\n",
       "      <td>0.000000</td>\n",
       "      <td>0.0</td>\n",
       "      <td>1.0</td>\n",
       "      <td>0.000000</td>\n",
       "      <td>0.0</td>\n",
       "      <td>0.000261</td>\n",
       "      <td>0.000087</td>\n",
       "    </tr>\n",
       "    <tr>\n",
       "      <th>1</th>\n",
       "      <td>Kirsch, Sarah</td>\n",
       "      <td>Deutschland</td>\n",
       "      <td>Lyriker; Maler; Biolog; Librettist; Schriftste...</td>\n",
       "      <td>118562487</td>\n",
       "      <td>1935-04-16</td>\n",
       "      <td>Weiblich</td>\n",
       "      <td>0.0</td>\n",
       "      <td>1.0</td>\n",
       "      <td>0.0</td>\n",
       "      <td>D</td>\n",
       "      <td>...</td>\n",
       "      <td>0.003650</td>\n",
       "      <td>0.000000</td>\n",
       "      <td>0.000925</td>\n",
       "      <td>0.001925</td>\n",
       "      <td>0.0</td>\n",
       "      <td>11.0</td>\n",
       "      <td>0.001337</td>\n",
       "      <td>0.0</td>\n",
       "      <td>0.003250</td>\n",
       "      <td>0.001529</td>\n",
       "    </tr>\n",
       "    <tr>\n",
       "      <th>2</th>\n",
       "      <td>Savinkov, Boris V.</td>\n",
       "      <td>Russland;Ukraine</td>\n",
       "      <td>Schriftsteller; Politiker</td>\n",
       "      <td>118804855</td>\n",
       "      <td>1879</td>\n",
       "      <td>Männlich</td>\n",
       "      <td>0.0</td>\n",
       "      <td>0.0</td>\n",
       "      <td>0.0</td>\n",
       "      <td>NaN</td>\n",
       "      <td>...</td>\n",
       "      <td>0.000521</td>\n",
       "      <td>0.000000</td>\n",
       "      <td>0.000000</td>\n",
       "      <td>0.000000</td>\n",
       "      <td>0.0</td>\n",
       "      <td>1.0</td>\n",
       "      <td>0.000000</td>\n",
       "      <td>0.0</td>\n",
       "      <td>0.000261</td>\n",
       "      <td>0.000087</td>\n",
       "    </tr>\n",
       "    <tr>\n",
       "      <th>3</th>\n",
       "      <td>Smith, Patti</td>\n",
       "      <td>USA</td>\n",
       "      <td>Musiker; Rocksänger; Schriftsteller; Zeichner;...</td>\n",
       "      <td>118748556</td>\n",
       "      <td>1946-12-30</td>\n",
       "      <td>Weiblich</td>\n",
       "      <td>0.0</td>\n",
       "      <td>0.0</td>\n",
       "      <td>0.0</td>\n",
       "      <td>NaN</td>\n",
       "      <td>...</td>\n",
       "      <td>0.000000</td>\n",
       "      <td>0.000000</td>\n",
       "      <td>0.000000</td>\n",
       "      <td>0.000962</td>\n",
       "      <td>0.0</td>\n",
       "      <td>1.0</td>\n",
       "      <td>0.000000</td>\n",
       "      <td>0.0</td>\n",
       "      <td>0.000481</td>\n",
       "      <td>0.000160</td>\n",
       "    </tr>\n",
       "    <tr>\n",
       "      <th>4</th>\n",
       "      <td>Salomon, Ernst von</td>\n",
       "      <td>USA;Deutschland</td>\n",
       "      <td>Schriftsteller; Drehbuchautor; Schriftsteller</td>\n",
       "      <td>118605151</td>\n",
       "      <td>1902-09-25</td>\n",
       "      <td>Männlich</td>\n",
       "      <td>0.0</td>\n",
       "      <td>1.0</td>\n",
       "      <td>0.0</td>\n",
       "      <td>D</td>\n",
       "      <td>...</td>\n",
       "      <td>0.000521</td>\n",
       "      <td>0.002611</td>\n",
       "      <td>0.000000</td>\n",
       "      <td>0.000000</td>\n",
       "      <td>0.0</td>\n",
       "      <td>3.0</td>\n",
       "      <td>0.001337</td>\n",
       "      <td>0.0</td>\n",
       "      <td>0.001566</td>\n",
       "      <td>0.000968</td>\n",
       "    </tr>\n",
       "  </tbody>\n",
       "</table>\n",
       "<p>5 rows × 33 columns</p>\n",
       "</div>"
      ],
      "text/plain": [
       "     Bevorzugter Name        Ländercode  \\\n",
       "0        Hanika, Iris       Deutschland   \n",
       "1       Kirsch, Sarah       Deutschland   \n",
       "2  Savinkov, Boris V.  Russland;Ukraine   \n",
       "3        Smith, Patti               USA   \n",
       "4  Salomon, Ernst von   USA;Deutschland   \n",
       "\n",
       "                            Beruf oder Beschäftigung GND-Nummer Geburtsdatum  \\\n",
       "0                                     Schriftsteller  124637140         1962   \n",
       "1  Lyriker; Maler; Biolog; Librettist; Schriftste...  118562487   1935-04-16   \n",
       "2                          Schriftsteller; Politiker  118804855         1879   \n",
       "3  Musiker; Rocksänger; Schriftsteller; Zeichner;...  118748556   1946-12-30   \n",
       "4      Schriftsteller; Drehbuchautor; Schriftsteller  118605151   1902-09-25   \n",
       "\n",
       "  Geschlecht  Austrian  German  Swiss Land  ...  halle_rel  mainz_rel  \\\n",
       "0   Weiblich       0.0     1.0    0.0    D  ...   0.000521   0.000000   \n",
       "1   Weiblich       0.0     1.0    0.0    D  ...   0.003650   0.000000   \n",
       "2   Männlich       0.0     0.0    0.0  NaN  ...   0.000521   0.000000   \n",
       "3   Weiblich       0.0     0.0    0.0  NaN  ...   0.000000   0.000000   \n",
       "4   Männlich       0.0     1.0    0.0    D  ...   0.000521   0.002611   \n",
       "\n",
       "   marburg_rel  stuttgart_rel  wien_rel  inhalt_total  Ö_inhalt_relrel  \\\n",
       "0     0.000000       0.000000       0.0           1.0         0.000000   \n",
       "1     0.000925       0.001925       0.0          11.0         0.001337   \n",
       "2     0.000000       0.000000       0.0           1.0         0.000000   \n",
       "3     0.000000       0.000962       0.0           1.0         0.000000   \n",
       "4     0.000000       0.000000       0.0           3.0         0.001337   \n",
       "\n",
       "   S_inhalt_relrel  D_inhalt_relrel  inhalt_relrelrel  \n",
       "0              0.0         0.000261          0.000087  \n",
       "1              0.0         0.003250          0.001529  \n",
       "2              0.0         0.000261          0.000087  \n",
       "3              0.0         0.000481          0.000160  \n",
       "4              0.0         0.001566          0.000968  \n",
       "\n",
       "[5 rows x 33 columns]"
      ]
     },
     "execution_count": 27,
     "metadata": {},
     "output_type": "execute_result"
    }
   ],
   "source": [
    "# Add general relative count\n",
    "authors_with_counts[\"inhalt_relrelrel\"] = (authors_with_counts[\"Ö_inhalt_relrel\"] +\n",
    "                                               authors_with_counts[\"D_inhalt_relrel\"]+\n",
    "                                               authors_with_counts[\"S_inhalt_relrel\"])/3\n",
    "authors_with_counts.head()"
   ]
  },
  {
   "cell_type": "code",
   "execution_count": 31,
   "id": "cccc12f2",
   "metadata": {},
   "outputs": [],
   "source": [
    "authors_with_counts.to_csv(\"../data/authors.csv\", sep=\";\", encoding=\"utf-8\")"
   ]
  },
  {
   "cell_type": "code",
   "execution_count": null,
   "id": "d21244b9",
   "metadata": {},
   "outputs": [],
   "source": []
  }
 ],
 "metadata": {
  "kernelspec": {
   "display_name": "Python 3 (ipykernel)",
   "language": "python",
   "name": "python3"
  },
  "language_info": {
   "codemirror_mode": {
    "name": "ipython",
    "version": 3
   },
   "file_extension": ".py",
   "mimetype": "text/x-python",
   "name": "python",
   "nbconvert_exporter": "python",
   "pygments_lexer": "ipython3",
   "version": "3.11.5"
  }
 },
 "nbformat": 4,
 "nbformat_minor": 5
}
